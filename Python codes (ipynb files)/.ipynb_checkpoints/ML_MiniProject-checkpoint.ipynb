{
 "cells": [
  {
   "cell_type": "code",
   "execution_count": 1,
   "metadata": {},
   "outputs": [],
   "source": [
    "import warnings\n",
    "warnings.filterwarnings(\"ignore\")"
   ]
  },
  {
   "cell_type": "code",
   "execution_count": 2,
   "metadata": {},
   "outputs": [
    {
     "name": "stdout",
     "output_type": "stream",
     "text": [
      "Requirement already satisfied: scikit-learn==1.2.1 in c:\\users\\admin\\anaconda3\\lib\\site-packages (1.2.1)\n",
      "Requirement already satisfied: numpy>=1.17.3 in c:\\users\\admin\\anaconda3\\lib\\site-packages (from scikit-learn==1.2.1) (1.23.5)\n",
      "Requirement already satisfied: scipy>=1.3.2 in c:\\users\\admin\\anaconda3\\lib\\site-packages (from scikit-learn==1.2.1) (1.10.1)\n",
      "Requirement already satisfied: joblib>=1.1.1 in c:\\users\\admin\\anaconda3\\lib\\site-packages (from scikit-learn==1.2.1) (1.3.2)\n",
      "Requirement already satisfied: threadpoolctl>=2.0.0 in c:\\users\\admin\\anaconda3\\lib\\site-packages (from scikit-learn==1.2.1) (2.2.0)\n",
      "Note: you may need to restart the kernel to use updated packages.\n"
     ]
    },
    {
     "name": "stderr",
     "output_type": "stream",
     "text": [
      "WARNING: Ignoring invalid distribution -rotobuf (c:\\users\\admin\\anaconda3\\lib\\site-packages)\n",
      "WARNING: Ignoring invalid distribution -rotobuf (c:\\users\\admin\\anaconda3\\lib\\site-packages)\n",
      "WARNING: Ignoring invalid distribution -rotobuf (c:\\users\\admin\\anaconda3\\lib\\site-packages)\n",
      "WARNING: Ignoring invalid distribution -rotobuf (c:\\users\\admin\\anaconda3\\lib\\site-packages)\n",
      "WARNING: Ignoring invalid distribution -rotobuf (c:\\users\\admin\\anaconda3\\lib\\site-packages)\n",
      "WARNING: Ignoring invalid distribution -rotobuf (c:\\users\\admin\\anaconda3\\lib\\site-packages)\n"
     ]
    }
   ],
   "source": [
    "pip install scikit-learn==1.2.1"
   ]
  },
  {
   "cell_type": "code",
   "execution_count": 3,
   "metadata": {
    "id": "GgXBrDnTL8cj"
   },
   "outputs": [],
   "source": [
    "import pandas as pd\n",
    "import numpy as np\n",
    "import seaborn as sns\n",
    "import matplotlib.pyplot as plt"
   ]
  },
  {
   "cell_type": "code",
   "execution_count": 4,
   "metadata": {
    "id": "xeBX_fD2L8Zu"
   },
   "outputs": [],
   "source": [
    "from sklearn import metrics\n",
    "from sklearn.model_selection import train_test_split\n",
    "from sklearn.linear_model import LinearRegression\n",
    "from sklearn.preprocessing import StandardScaler"
   ]
  },
  {
   "cell_type": "code",
   "execution_count": 5,
   "metadata": {
    "id": "izGt3sxTL8N4"
   },
   "outputs": [],
   "source": [
    "df1 = pd.read_csv(r\"C:\\Users\\admin\\Downloads\\ML-Housing-Habitability-Project-main\\ML-Housing-Habitability-Project-main\\Dataset csv\\Housing Habitability Data.csv\")"
   ]
  },
  {
   "cell_type": "code",
   "execution_count": 6,
   "metadata": {
    "colab": {
     "base_uri": "https://localhost:8080/",
     "height": 347
    },
    "id": "wNgwMrV-LwRH",
    "outputId": "dd93a3dc-45b3-4843-b290-9d3a4839e8de"
   },
   "outputs": [
    {
     "data": {
      "text/html": [
       "<div>\n",
       "<style scoped>\n",
       "    .dataframe tbody tr th:only-of-type {\n",
       "        vertical-align: middle;\n",
       "    }\n",
       "\n",
       "    .dataframe tbody tr th {\n",
       "        vertical-align: top;\n",
       "    }\n",
       "\n",
       "    .dataframe thead th {\n",
       "        text-align: right;\n",
       "    }\n",
       "</style>\n",
       "<table border=\"1\" class=\"dataframe\">\n",
       "  <thead>\n",
       "    <tr style=\"text-align: right;\">\n",
       "      <th></th>\n",
       "      <th>Property_ID</th>\n",
       "      <th>Property_Type</th>\n",
       "      <th>Property_Area</th>\n",
       "      <th>Number_of_Windows</th>\n",
       "      <th>Number_of_Doors</th>\n",
       "      <th>Furnishing</th>\n",
       "      <th>Frequency_of_Powercuts</th>\n",
       "      <th>Power_Backup</th>\n",
       "      <th>Water_Supply</th>\n",
       "      <th>Traffic_Density_Score</th>\n",
       "      <th>Crime_Rate</th>\n",
       "      <th>Dust_and_Noise</th>\n",
       "      <th>Air_Quality_Index</th>\n",
       "      <th>Neighborhood_Review</th>\n",
       "      <th>Habitability_score</th>\n",
       "    </tr>\n",
       "  </thead>\n",
       "  <tbody>\n",
       "    <tr>\n",
       "      <th>0</th>\n",
       "      <td>0x21e3</td>\n",
       "      <td>Apartment</td>\n",
       "      <td>106</td>\n",
       "      <td>NaN</td>\n",
       "      <td>1</td>\n",
       "      <td>Semi_Furnished</td>\n",
       "      <td>0.0</td>\n",
       "      <td>No</td>\n",
       "      <td>Once in a day - Morning</td>\n",
       "      <td>5.89</td>\n",
       "      <td>Slightly below average</td>\n",
       "      <td>Medium</td>\n",
       "      <td>90.0</td>\n",
       "      <td>3.86</td>\n",
       "      <td>71.98</td>\n",
       "    </tr>\n",
       "    <tr>\n",
       "      <th>1</th>\n",
       "      <td>0x68d4</td>\n",
       "      <td>Apartment</td>\n",
       "      <td>733</td>\n",
       "      <td>2.0</td>\n",
       "      <td>2</td>\n",
       "      <td>Unfurnished</td>\n",
       "      <td>1.0</td>\n",
       "      <td>No</td>\n",
       "      <td>Once in a day - Evening</td>\n",
       "      <td>4.37</td>\n",
       "      <td>Well below average</td>\n",
       "      <td>Medium</td>\n",
       "      <td>96.0</td>\n",
       "      <td>3.55</td>\n",
       "      <td>71.20</td>\n",
       "    </tr>\n",
       "    <tr>\n",
       "      <th>2</th>\n",
       "      <td>0x7d81</td>\n",
       "      <td>Apartment</td>\n",
       "      <td>737</td>\n",
       "      <td>4.0</td>\n",
       "      <td>2</td>\n",
       "      <td>Fully Furnished</td>\n",
       "      <td>0.0</td>\n",
       "      <td>No</td>\n",
       "      <td>Once in a day - Morning</td>\n",
       "      <td>7.45</td>\n",
       "      <td>Slightly below average</td>\n",
       "      <td>Medium</td>\n",
       "      <td>121.0</td>\n",
       "      <td>3.81</td>\n",
       "      <td>71.39</td>\n",
       "    </tr>\n",
       "    <tr>\n",
       "      <th>3</th>\n",
       "      <td>0x7a57</td>\n",
       "      <td>Apartment</td>\n",
       "      <td>900</td>\n",
       "      <td>3.0</td>\n",
       "      <td>2</td>\n",
       "      <td>Unfurnished</td>\n",
       "      <td>2.0</td>\n",
       "      <td>Yes</td>\n",
       "      <td>Once in a day - Morning</td>\n",
       "      <td>6.16</td>\n",
       "      <td>Well above average</td>\n",
       "      <td>Medium</td>\n",
       "      <td>100.0</td>\n",
       "      <td>1.34</td>\n",
       "      <td>31.46</td>\n",
       "    </tr>\n",
       "    <tr>\n",
       "      <th>4</th>\n",
       "      <td>0x9409</td>\n",
       "      <td>Bungalow</td>\n",
       "      <td>2238</td>\n",
       "      <td>14.0</td>\n",
       "      <td>6</td>\n",
       "      <td>Fully Furnished</td>\n",
       "      <td>0.0</td>\n",
       "      <td>No</td>\n",
       "      <td>All time</td>\n",
       "      <td>5.46</td>\n",
       "      <td>Well below average</td>\n",
       "      <td>Medium</td>\n",
       "      <td>116.0</td>\n",
       "      <td>4.77</td>\n",
       "      <td>93.70</td>\n",
       "    </tr>\n",
       "  </tbody>\n",
       "</table>\n",
       "</div>"
      ],
      "text/plain": [
       "  Property_ID Property_Type  Property_Area  Number_of_Windows  \\\n",
       "0      0x21e3     Apartment            106                NaN   \n",
       "1      0x68d4     Apartment            733                2.0   \n",
       "2      0x7d81     Apartment            737                4.0   \n",
       "3      0x7a57     Apartment            900                3.0   \n",
       "4      0x9409      Bungalow           2238               14.0   \n",
       "\n",
       "   Number_of_Doors       Furnishing  Frequency_of_Powercuts Power_Backup  \\\n",
       "0                1   Semi_Furnished                     0.0           No   \n",
       "1                2      Unfurnished                     1.0           No   \n",
       "2                2  Fully Furnished                     0.0           No   \n",
       "3                2      Unfurnished                     2.0          Yes   \n",
       "4                6  Fully Furnished                     0.0           No   \n",
       "\n",
       "              Water_Supply  Traffic_Density_Score              Crime_Rate  \\\n",
       "0  Once in a day - Morning                   5.89  Slightly below average   \n",
       "1  Once in a day - Evening                   4.37      Well below average   \n",
       "2  Once in a day - Morning                   7.45  Slightly below average   \n",
       "3  Once in a day - Morning                   6.16      Well above average   \n",
       "4                 All time                   5.46      Well below average   \n",
       "\n",
       "  Dust_and_Noise  Air_Quality_Index  Neighborhood_Review  Habitability_score  \n",
       "0         Medium               90.0                 3.86               71.98  \n",
       "1         Medium               96.0                 3.55               71.20  \n",
       "2         Medium              121.0                 3.81               71.39  \n",
       "3         Medium              100.0                 1.34               31.46  \n",
       "4         Medium              116.0                 4.77               93.70  "
      ]
     },
     "execution_count": 6,
     "metadata": {},
     "output_type": "execute_result"
    }
   ],
   "source": [
    "df1.head()"
   ]
  },
  {
   "cell_type": "code",
   "execution_count": 7,
   "metadata": {
    "id": "YRHcL2xZMxt-"
   },
   "outputs": [],
   "source": [
    "df = df1"
   ]
  },
  {
   "cell_type": "code",
   "execution_count": 8,
   "metadata": {
    "colab": {
     "base_uri": "https://localhost:8080/"
    },
    "id": "2GY3uTZsMqfa",
    "outputId": "7a12439a-d253-4366-cf18-88980a8a0426"
   },
   "outputs": [
    {
     "data": {
      "text/plain": [
       "(35549, 15)"
      ]
     },
     "execution_count": 8,
     "metadata": {},
     "output_type": "execute_result"
    }
   ],
   "source": [
    "# Shape\n",
    "nrows, ncolumns = df.shape\n",
    "df.shape"
   ]
  },
  {
   "cell_type": "code",
   "execution_count": 9,
   "metadata": {
    "colab": {
     "base_uri": "https://localhost:8080/",
     "height": 300
    },
    "id": "28GRuSpbM1bV",
    "outputId": "857f4ad9-20cc-4716-f64d-c411d6b6a561"
   },
   "outputs": [
    {
     "data": {
      "text/html": [
       "<div>\n",
       "<style scoped>\n",
       "    .dataframe tbody tr th:only-of-type {\n",
       "        vertical-align: middle;\n",
       "    }\n",
       "\n",
       "    .dataframe tbody tr th {\n",
       "        vertical-align: top;\n",
       "    }\n",
       "\n",
       "    .dataframe thead th {\n",
       "        text-align: right;\n",
       "    }\n",
       "</style>\n",
       "<table border=\"1\" class=\"dataframe\">\n",
       "  <thead>\n",
       "    <tr style=\"text-align: right;\">\n",
       "      <th></th>\n",
       "      <th>Property_Area</th>\n",
       "      <th>Number_of_Windows</th>\n",
       "      <th>Number_of_Doors</th>\n",
       "      <th>Frequency_of_Powercuts</th>\n",
       "      <th>Traffic_Density_Score</th>\n",
       "      <th>Air_Quality_Index</th>\n",
       "      <th>Neighborhood_Review</th>\n",
       "      <th>Habitability_score</th>\n",
       "    </tr>\n",
       "  </thead>\n",
       "  <tbody>\n",
       "    <tr>\n",
       "      <th>count</th>\n",
       "      <td>35549.000000</td>\n",
       "      <td>34059.000000</td>\n",
       "      <td>35549.000000</td>\n",
       "      <td>34296.000000</td>\n",
       "      <td>35549.000000</td>\n",
       "      <td>35549.000000</td>\n",
       "      <td>35549.000000</td>\n",
       "      <td>35549.000000</td>\n",
       "    </tr>\n",
       "    <tr>\n",
       "      <th>mean</th>\n",
       "      <td>1389.695603</td>\n",
       "      <td>3.923251</td>\n",
       "      <td>2.332274</td>\n",
       "      <td>0.484284</td>\n",
       "      <td>6.354873</td>\n",
       "      <td>121.441194</td>\n",
       "      <td>3.734728</td>\n",
       "      <td>73.468186</td>\n",
       "    </tr>\n",
       "    <tr>\n",
       "      <th>std</th>\n",
       "      <td>1940.160413</td>\n",
       "      <td>2.692871</td>\n",
       "      <td>1.179978</td>\n",
       "      <td>0.751487</td>\n",
       "      <td>1.220157</td>\n",
       "      <td>62.659486</td>\n",
       "      <td>0.797930</td>\n",
       "      <td>14.134287</td>\n",
       "    </tr>\n",
       "    <tr>\n",
       "      <th>min</th>\n",
       "      <td>100.000000</td>\n",
       "      <td>0.000000</td>\n",
       "      <td>1.000000</td>\n",
       "      <td>0.000000</td>\n",
       "      <td>0.000000</td>\n",
       "      <td>0.000000</td>\n",
       "      <td>0.000000</td>\n",
       "      <td>7.280000</td>\n",
       "    </tr>\n",
       "    <tr>\n",
       "      <th>25%</th>\n",
       "      <td>495.000000</td>\n",
       "      <td>2.000000</td>\n",
       "      <td>1.000000</td>\n",
       "      <td>0.000000</td>\n",
       "      <td>5.600000</td>\n",
       "      <td>95.000000</td>\n",
       "      <td>3.220000</td>\n",
       "      <td>69.650000</td>\n",
       "    </tr>\n",
       "    <tr>\n",
       "      <th>50%</th>\n",
       "      <td>932.000000</td>\n",
       "      <td>4.000000</td>\n",
       "      <td>2.000000</td>\n",
       "      <td>0.000000</td>\n",
       "      <td>6.460000</td>\n",
       "      <td>113.000000</td>\n",
       "      <td>3.850000</td>\n",
       "      <td>75.770000</td>\n",
       "    </tr>\n",
       "    <tr>\n",
       "      <th>75%</th>\n",
       "      <td>1774.000000</td>\n",
       "      <td>5.000000</td>\n",
       "      <td>3.000000</td>\n",
       "      <td>1.000000</td>\n",
       "      <td>7.220000</td>\n",
       "      <td>140.000000</td>\n",
       "      <td>4.250000</td>\n",
       "      <td>82.250000</td>\n",
       "    </tr>\n",
       "    <tr>\n",
       "      <th>max</th>\n",
       "      <td>28064.000000</td>\n",
       "      <td>15.000000</td>\n",
       "      <td>6.000000</td>\n",
       "      <td>3.000000</td>\n",
       "      <td>9.910000</td>\n",
       "      <td>1044.000000</td>\n",
       "      <td>5.000000</td>\n",
       "      <td>100.000000</td>\n",
       "    </tr>\n",
       "  </tbody>\n",
       "</table>\n",
       "</div>"
      ],
      "text/plain": [
       "       Property_Area  Number_of_Windows  Number_of_Doors  \\\n",
       "count   35549.000000       34059.000000     35549.000000   \n",
       "mean     1389.695603           3.923251         2.332274   \n",
       "std      1940.160413           2.692871         1.179978   \n",
       "min       100.000000           0.000000         1.000000   \n",
       "25%       495.000000           2.000000         1.000000   \n",
       "50%       932.000000           4.000000         2.000000   \n",
       "75%      1774.000000           5.000000         3.000000   \n",
       "max     28064.000000          15.000000         6.000000   \n",
       "\n",
       "       Frequency_of_Powercuts  Traffic_Density_Score  Air_Quality_Index  \\\n",
       "count            34296.000000           35549.000000       35549.000000   \n",
       "mean                 0.484284               6.354873         121.441194   \n",
       "std                  0.751487               1.220157          62.659486   \n",
       "min                  0.000000               0.000000           0.000000   \n",
       "25%                  0.000000               5.600000          95.000000   \n",
       "50%                  0.000000               6.460000         113.000000   \n",
       "75%                  1.000000               7.220000         140.000000   \n",
       "max                  3.000000               9.910000        1044.000000   \n",
       "\n",
       "       Neighborhood_Review  Habitability_score  \n",
       "count         35549.000000        35549.000000  \n",
       "mean              3.734728           73.468186  \n",
       "std               0.797930           14.134287  \n",
       "min               0.000000            7.280000  \n",
       "25%               3.220000           69.650000  \n",
       "50%               3.850000           75.770000  \n",
       "75%               4.250000           82.250000  \n",
       "max               5.000000          100.000000  "
      ]
     },
     "execution_count": 9,
     "metadata": {},
     "output_type": "execute_result"
    }
   ],
   "source": [
    "df.describe()"
   ]
  },
  {
   "cell_type": "code",
   "execution_count": 10,
   "metadata": {
    "colab": {
     "base_uri": "https://localhost:8080/",
     "height": 175
    },
    "id": "77CRb5C0M6QU",
    "outputId": "15daa213-8b9e-48bd-c946-660177edb82b"
   },
   "outputs": [
    {
     "data": {
      "text/html": [
       "<div>\n",
       "<style scoped>\n",
       "    .dataframe tbody tr th:only-of-type {\n",
       "        vertical-align: middle;\n",
       "    }\n",
       "\n",
       "    .dataframe tbody tr th {\n",
       "        vertical-align: top;\n",
       "    }\n",
       "\n",
       "    .dataframe thead th {\n",
       "        text-align: right;\n",
       "    }\n",
       "</style>\n",
       "<table border=\"1\" class=\"dataframe\">\n",
       "  <thead>\n",
       "    <tr style=\"text-align: right;\">\n",
       "      <th></th>\n",
       "      <th>Property_ID</th>\n",
       "      <th>Property_Type</th>\n",
       "      <th>Furnishing</th>\n",
       "      <th>Power_Backup</th>\n",
       "      <th>Water_Supply</th>\n",
       "      <th>Crime_Rate</th>\n",
       "      <th>Dust_and_Noise</th>\n",
       "    </tr>\n",
       "  </thead>\n",
       "  <tbody>\n",
       "    <tr>\n",
       "      <th>count</th>\n",
       "      <td>35549</td>\n",
       "      <td>35549</td>\n",
       "      <td>34620</td>\n",
       "      <td>35549</td>\n",
       "      <td>35549</td>\n",
       "      <td>34828</td>\n",
       "      <td>34441</td>\n",
       "    </tr>\n",
       "    <tr>\n",
       "      <th>unique</th>\n",
       "      <td>35549</td>\n",
       "      <td>6</td>\n",
       "      <td>3</td>\n",
       "      <td>3</td>\n",
       "      <td>5</td>\n",
       "      <td>4</td>\n",
       "      <td>3</td>\n",
       "    </tr>\n",
       "    <tr>\n",
       "      <th>top</th>\n",
       "      <td>0x21e3</td>\n",
       "      <td>Apartment</td>\n",
       "      <td>Semi_Furnished</td>\n",
       "      <td>No</td>\n",
       "      <td>All time</td>\n",
       "      <td>Well below average</td>\n",
       "      <td>Medium</td>\n",
       "    </tr>\n",
       "    <tr>\n",
       "      <th>freq</th>\n",
       "      <td>1</td>\n",
       "      <td>13142</td>\n",
       "      <td>18373</td>\n",
       "      <td>26769</td>\n",
       "      <td>17594</td>\n",
       "      <td>17477</td>\n",
       "      <td>29670</td>\n",
       "    </tr>\n",
       "  </tbody>\n",
       "</table>\n",
       "</div>"
      ],
      "text/plain": [
       "       Property_ID Property_Type      Furnishing Power_Backup Water_Supply  \\\n",
       "count        35549         35549           34620        35549        35549   \n",
       "unique       35549             6               3            3            5   \n",
       "top         0x21e3     Apartment  Semi_Furnished           No     All time   \n",
       "freq             1         13142           18373        26769        17594   \n",
       "\n",
       "                Crime_Rate Dust_and_Noise  \n",
       "count                34828          34441  \n",
       "unique                   4              3  \n",
       "top     Well below average         Medium  \n",
       "freq                 17477          29670  "
      ]
     },
     "execution_count": 10,
     "metadata": {},
     "output_type": "execute_result"
    }
   ],
   "source": [
    "# For categorical stats\n",
    "df.describe(include='object')"
   ]
  },
  {
   "cell_type": "code",
   "execution_count": 11,
   "metadata": {
    "colab": {
     "base_uri": "https://localhost:8080/"
    },
    "id": "Sir_9wPAOE4S",
    "outputId": "baf06883-ec78-4846-891f-c658779bbe44"
   },
   "outputs": [
    {
     "data": {
      "text/plain": [
       "['Property_ID',\n",
       " 'Property_Type',\n",
       " 'Property_Area',\n",
       " 'Number_of_Windows',\n",
       " 'Number_of_Doors',\n",
       " 'Furnishing',\n",
       " 'Frequency_of_Powercuts',\n",
       " 'Power_Backup',\n",
       " 'Water_Supply',\n",
       " 'Traffic_Density_Score',\n",
       " 'Crime_Rate',\n",
       " 'Dust_and_Noise',\n",
       " 'Air_Quality_Index',\n",
       " 'Neighborhood_Review',\n",
       " 'Habitability_score']"
      ]
     },
     "execution_count": 11,
     "metadata": {},
     "output_type": "execute_result"
    }
   ],
   "source": [
    "# Prints the column names\n",
    "df.columns.tolist()"
   ]
  },
  {
   "cell_type": "markdown",
   "metadata": {
    "id": "oXhfmiaNN_8P"
   },
   "source": [
    "**Data Cleaning**"
   ]
  },
  {
   "cell_type": "code",
   "execution_count": 12,
   "metadata": {
    "id": "QrGIuafyNCo2"
   },
   "outputs": [],
   "source": [
    "# Renames the column names\n",
    "df.rename(columns = {col: col.lower() for col in df.columns.tolist()},inplace=True)"
   ]
  },
  {
   "cell_type": "code",
   "execution_count": 13,
   "metadata": {
    "colab": {
     "base_uri": "https://localhost:8080/"
    },
    "id": "mVPx52EnOM0-",
    "outputId": "4186e394-6b55-4a68-f50c-86864cdba125"
   },
   "outputs": [
    {
     "name": "stdout",
     "output_type": "stream",
     "text": [
      "property_type: ['Apartment', 'Bungalow', 'Single-family home', 'Duplex', '#R%$G&867', 'Container Home']\n",
      "--------------------\n",
      "furnishing: ['Semi_Furnished', 'Unfurnished', 'Fully Furnished', nan]\n",
      "--------------------\n",
      "power_backup: ['No', 'Yes', 'NOT MENTIONED']\n",
      "--------------------\n",
      "water_supply: ['Once in a day - Morning', 'Once in a day - Evening', 'All time', 'NOT MENTIONED', 'Once in two days']\n",
      "--------------------\n",
      "crime_rate: ['Slightly below average', 'Well below average', 'Well above average', nan, 'Slightly above average']\n",
      "--------------------\n",
      "dust_and_noise: ['Medium', 'High', 'Low', nan]\n",
      "--------------------\n"
     ]
    }
   ],
   "source": [
    "# Examine the unique values in categorical variables.\n",
    "cat_variables = df.select_dtypes(include='object').columns.tolist()[1:]\n",
    "\n",
    "for col in cat_variables:\n",
    "    print(col + \":\" , df[col].unique().tolist())\n",
    "    print(\"--\" * 10)"
   ]
  },
  {
   "cell_type": "code",
   "execution_count": 14,
   "metadata": {
    "id": "1SGcR2YxOYoy"
   },
   "outputs": [],
   "source": [
    "# Define the expected values for each categorical column\n",
    "expected_values = {\n",
    "    'property_type': ['Apartment', 'Bungalow', 'Single-family home', 'Duplex', 'Container Home'],\n",
    "    'furnishing': ['Semi_Furnished', 'Unfurnished', 'Fully Furnished'],\n",
    "    'power_backup': ['No', 'Yes','NOT MENTIONED'],\n",
    "    'water_supply': ['Once in a day - Morning', 'Once in a day - Evening', 'All time', 'Once in two days','NOT MENTIONED'],\n",
    "    'crime_rate': ['Slightly below average', 'Well below average', 'Well above average', 'Slightly above average'],\n",
    "    'dust_and_noise': ['Medium', 'High', 'Low']\n",
    "}"
   ]
  },
  {
   "cell_type": "code",
   "execution_count": 15,
   "metadata": {
    "colab": {
     "base_uri": "https://localhost:8080/"
    },
    "id": "8M7cCpejOgoQ",
    "outputId": "00d8138b-2e64-4c3e-c15f-796fcbecae55"
   },
   "outputs": [
    {
     "name": "stdout",
     "output_type": "stream",
     "text": [
      "Unexpected values found in 'property_type': ['#R%$G&867']\n",
      "Unexpected values found in 'furnishing': [nan]\n",
      "Unexpected values found in 'crime_rate': [nan]\n",
      "Unexpected values found in 'dust_and_noise': [nan]\n"
     ]
    }
   ],
   "source": [
    "# Iterate through each categorical column\n",
    "for col in cat_variables:\n",
    "    # Find unexpected values\n",
    "    unexpected_values = df[~df[col].isin(expected_values[col])][col].unique()\n",
    "    if unexpected_values.any():\n",
    "        print(f\"Unexpected values found in '{col}': {unexpected_values}\")\n",
    "\n",
    "    # Replace unexpected values with NaN\n",
    "    df[col].replace(unexpected_values, np.nan, inplace=True)\n",
    "\n",
    "    # Find the most common component of the column\n",
    "    most_common_component = df[col].mode()[0]\n",
    "\n",
    "    # Replace NaN values with the most common component\n",
    "    df[col] = df[col].fillna(most_common_component)"
   ]
  },
  {
   "cell_type": "code",
   "execution_count": 16,
   "metadata": {
    "colab": {
     "base_uri": "https://localhost:8080/"
    },
    "id": "7ymsPdVJOyZX",
    "outputId": "a1ba41ac-8500-4524-dc98-2cc8983e1115"
   },
   "outputs": [
    {
     "name": "stdout",
     "output_type": "stream",
     "text": [
      "property_type: ['Apartment', 'Bungalow', 'Single-family home', 'Duplex', 'Container Home']\n",
      "--------------------\n",
      "furnishing: ['Semi_Furnished', 'Unfurnished', 'Fully Furnished']\n",
      "--------------------\n",
      "power_backup: ['No', 'Yes', 'NOT MENTIONED']\n",
      "--------------------\n",
      "water_supply: ['Once in a day - Morning', 'Once in a day - Evening', 'All time', 'NOT MENTIONED', 'Once in two days']\n",
      "--------------------\n",
      "crime_rate: ['Slightly below average', 'Well below average', 'Well above average', 'Slightly above average']\n",
      "--------------------\n",
      "dust_and_noise: ['Medium', 'High', 'Low']\n",
      "--------------------\n"
     ]
    }
   ],
   "source": [
    "# Check if the data is clean now\n",
    "for col in cat_variables:\n",
    "    print(col + \":\", df[col].unique().tolist())\n",
    "    print(\"--\" * 10)\n"
   ]
  },
  {
   "cell_type": "code",
   "execution_count": 17,
   "metadata": {
    "colab": {
     "base_uri": "https://localhost:8080/",
     "height": 112
    },
    "id": "gninp4HDO4NW",
    "outputId": "b32c428b-5cb8-45bc-e23c-1553a5777d7a"
   },
   "outputs": [
    {
     "data": {
      "text/html": [
       "<div>\n",
       "<style scoped>\n",
       "    .dataframe tbody tr th:only-of-type {\n",
       "        vertical-align: middle;\n",
       "    }\n",
       "\n",
       "    .dataframe tbody tr th {\n",
       "        vertical-align: top;\n",
       "    }\n",
       "\n",
       "    .dataframe thead th {\n",
       "        text-align: right;\n",
       "    }\n",
       "</style>\n",
       "<table border=\"1\" class=\"dataframe\">\n",
       "  <thead>\n",
       "    <tr style=\"text-align: right;\">\n",
       "      <th></th>\n",
       "      <th>n_missing</th>\n",
       "      <th>%_missing</th>\n",
       "    </tr>\n",
       "  </thead>\n",
       "  <tbody>\n",
       "    <tr>\n",
       "      <th>number_of_windows</th>\n",
       "      <td>1490</td>\n",
       "      <td>4.19</td>\n",
       "    </tr>\n",
       "    <tr>\n",
       "      <th>frequency_of_powercuts</th>\n",
       "      <td>1253</td>\n",
       "      <td>3.52</td>\n",
       "    </tr>\n",
       "  </tbody>\n",
       "</table>\n",
       "</div>"
      ],
      "text/plain": [
       "                        n_missing  %_missing\n",
       "number_of_windows            1490       4.19\n",
       "frequency_of_powercuts       1253       3.52"
      ]
     },
     "execution_count": 17,
     "metadata": {},
     "output_type": "execute_result"
    }
   ],
   "source": [
    "# Missing values\n",
    "nan_columns = df.columns[df.isnull().sum() > 0].tolist()\n",
    "n_missing = df[nan_columns].isnull().sum()\n",
    "percent_missing = round(n_missing / nrows * 100, 2)\n",
    "\n",
    "pd.concat([n_missing, percent_missing], axis=1, keys=['n_missing', '%_missing'])"
   ]
  },
  {
   "cell_type": "code",
   "execution_count": 18,
   "metadata": {
    "id": "X2jMV19lPExa"
   },
   "outputs": [],
   "source": [
    "# Replace missing values with the average of their respective columns\n",
    "df['number_of_windows'].fillna(df['number_of_windows'].mean(), inplace=True)\n",
    "df['frequency_of_powercuts'].fillna(df['frequency_of_powercuts'].mean(), inplace=True)"
   ]
  },
  {
   "cell_type": "code",
   "execution_count": 19,
   "metadata": {
    "colab": {
     "base_uri": "https://localhost:8080/"
    },
    "id": "w4vmvp44PKkE",
    "outputId": "212398aa-6c38-4245-b186-a6c8a92c7846"
   },
   "outputs": [
    {
     "data": {
      "text/plain": [
       "(35549, 15)"
      ]
     },
     "execution_count": 19,
     "metadata": {},
     "output_type": "execute_result"
    }
   ],
   "source": [
    "df.shape"
   ]
  },
  {
   "cell_type": "code",
   "execution_count": 20,
   "metadata": {
    "colab": {
     "base_uri": "https://localhost:8080/"
    },
    "id": "4zI_Ipv7PRcs",
    "outputId": "678652cc-91bc-45dc-fbad-b2b638112faa"
   },
   "outputs": [
    {
     "data": {
      "text/plain": [
       "property_id               0\n",
       "property_type             0\n",
       "property_area             0\n",
       "number_of_windows         0\n",
       "number_of_doors           0\n",
       "furnishing                0\n",
       "frequency_of_powercuts    0\n",
       "power_backup              0\n",
       "water_supply              0\n",
       "traffic_density_score     0\n",
       "crime_rate                0\n",
       "dust_and_noise            0\n",
       "air_quality_index         0\n",
       "neighborhood_review       0\n",
       "habitability_score        0\n",
       "dtype: int64"
      ]
     },
     "execution_count": 20,
     "metadata": {},
     "output_type": "execute_result"
    }
   ],
   "source": [
    "df.isnull().sum().sort_values(ascending=False)"
   ]
  },
  {
   "cell_type": "markdown",
   "metadata": {
    "id": "Pl_wbrpPRPo1"
   },
   "source": [
    "**Droping redundant columns and checking datatypes**"
   ]
  },
  {
   "cell_type": "code",
   "execution_count": 21,
   "metadata": {
    "id": "o9innhoNQsrQ"
   },
   "outputs": [],
   "source": [
    "df.drop(['property_id'], axis = 1, inplace = True)\n",
    "# Property_ID has all the unique values and this column is not important to create a model. It is better to drop it."
   ]
  },
  {
   "cell_type": "code",
   "execution_count": 22,
   "metadata": {
    "colab": {
     "base_uri": "https://localhost:8080/"
    },
    "id": "NjlWuXwcRXkY",
    "outputId": "0bcd4902-6b04-4a3a-b1ca-9cea52ea8d22"
   },
   "outputs": [
    {
     "data": {
      "text/plain": [
       "property_type              object\n",
       "property_area               int64\n",
       "number_of_windows         float64\n",
       "number_of_doors             int64\n",
       "furnishing                 object\n",
       "frequency_of_powercuts    float64\n",
       "power_backup               object\n",
       "water_supply               object\n",
       "traffic_density_score     float64\n",
       "crime_rate                 object\n",
       "dust_and_noise             object\n",
       "air_quality_index         float64\n",
       "neighborhood_review       float64\n",
       "habitability_score        float64\n",
       "dtype: object"
      ]
     },
     "execution_count": 22,
     "metadata": {},
     "output_type": "execute_result"
    }
   ],
   "source": [
    "df.dtypes"
   ]
  },
  {
   "cell_type": "markdown",
   "metadata": {
    "id": "fVPv-pD8SM3Y"
   },
   "source": [
    "**Exploratory Data Analysis**"
   ]
  },
  {
   "cell_type": "code",
   "execution_count": 23,
   "metadata": {
    "colab": {
     "base_uri": "https://localhost:8080/",
     "height": 1000
    },
    "id": "zGlunTyDSJ-T",
    "outputId": "5b975eb4-eae9-461d-83cf-99dd9d3c71c1"
   },
   "outputs": [],
   "source": [
    "# sns.pairplot(df,diag_kind = 'kde')"
   ]
  },
  {
   "cell_type": "code",
   "execution_count": 24,
   "metadata": {
    "colab": {
     "base_uri": "https://localhost:8080/",
     "height": 1000
    },
    "id": "ux1pLm4jR_8E",
    "outputId": "495a4f79-8af9-4222-85c4-98fb84fde525"
   },
   "outputs": [],
   "source": [
    "# plt.figure(figsize = (15,10))\n",
    "# numeric_df = df.select_dtypes(include='number')\n",
    "# sns.heatmap(numeric_df.corr(), annot=True)\n",
    "# plt.title('Numerical Data Correlation',  color = 'Blue', fontsize=18)\n",
    "\n",
    "# # There is no strong correlation among any of the variale, that mean each and every column is important for creating a model."
   ]
  },
  {
   "cell_type": "markdown",
   "metadata": {
    "id": "AfCoHY4DS_d3"
   },
   "source": [
    "\n",
    "**Checking Numerical and Categorical Columns**"
   ]
  },
  {
   "cell_type": "code",
   "execution_count": 33,
   "metadata": {
    "colab": {
     "base_uri": "https://localhost:8080/"
    },
    "id": "pBKiBgkFShqN",
    "outputId": "73343fcd-62da-499c-d84d-677b127e70bd"
   },
   "outputs": [
    {
     "name": "stdout",
     "output_type": "stream",
     "text": [
      "Numerical_columns: ['property_area', 'number_of_windows', 'number_of_doors', 'frequency_of_powercuts', 'traffic_density_score', 'air_quality_index', 'neighborhood_review', 'habitability_score'] \n",
      "\n",
      "Categorical_columns: ['property_type', 'furnishing', 'power_backup', 'water_supply', 'crime_rate', 'dust_and_noise']\n"
     ]
    }
   ],
   "source": [
    "num = []\n",
    "cat = []\n",
    "\n",
    "for i in df.columns:\n",
    "    if df[i].dtypes == 'O':\n",
    "        cat.append(i)\n",
    "\n",
    "    else:\n",
    "        num.append(i)\n",
    "\n",
    "print('Numerical_columns:',num, '\\n')\n",
    "print('Categorical_columns:',cat)"
   ]
  },
  {
   "cell_type": "markdown",
   "metadata": {
    "id": "jy-2AqM3TdnF"
   },
   "source": [
    "**Removing Outliers**"
   ]
  },
  {
   "cell_type": "code",
   "execution_count": 26,
   "metadata": {
    "colab": {
     "base_uri": "https://localhost:8080/",
     "height": 1000
    },
    "id": "dHu4ZpnrTJUl",
    "outputId": "61f85632-c5ec-4a97-917b-aa9f9784994d"
   },
   "outputs": [],
   "source": [
    "# for i in df[num]:\n",
    "#     plt.figure()\n",
    "#     sns.boxplot(y = i, data = df)"
   ]
  },
  {
   "cell_type": "code",
   "execution_count": 27,
   "metadata": {
    "id": "fuQ3emM1TW-I"
   },
   "outputs": [],
   "source": [
    "# # Remove outliers from numerical features.\n",
    "# def remove_outliers(col):\n",
    "#     # find quantiles\n",
    "#     Q1 = np.quantile(df[col], q=0.25)\n",
    "#     Q3 = np.quantile(df[col], q=0.75)\n",
    "\n",
    "#     # Inter quantile Range\n",
    "#     IQR = Q3 - Q1\n",
    "\n",
    "#     # Upper range & lower range\n",
    "#     upper_range = Q3 + (IQR * 1.5)\n",
    "#     lower_range = Q1 - (IQR * 1.5)\n",
    "#     # Replace the outlier values with upper and lower range value.\n",
    "#     df[col] = np.where(df[col] > upper_range, upper_range, df[col])\n",
    "#     df[col] = np.where(df[col] < lower_range, lower_range, df[col])"
   ]
  },
  {
   "cell_type": "code",
   "execution_count": 28,
   "metadata": {
    "id": "0O_iVDtTT0Yk"
   },
   "outputs": [],
   "source": [
    "# for col in num:\n",
    "#     remove_outliers(col)"
   ]
  },
  {
   "cell_type": "code",
   "execution_count": 29,
   "metadata": {
    "colab": {
     "base_uri": "https://localhost:8080/",
     "height": 1000
    },
    "id": "kcmasSb3T3-F",
    "outputId": "e4c1ddcb-369f-4faa-ebb8-cf8ef14050ba"
   },
   "outputs": [],
   "source": [
    "# for i in df[num]:\n",
    "#     plt.figure()\n",
    "#     sns.boxplot(y = i, data = df)"
   ]
  },
  {
   "cell_type": "code",
   "execution_count": 34,
   "metadata": {
    "colab": {
     "base_uri": "https://localhost:8080/",
     "height": 347
    },
    "id": "9-5RhRqBUbr9",
    "outputId": "759fe927-61c9-4005-c11f-8cb9608cc594"
   },
   "outputs": [
    {
     "data": {
      "text/html": [
       "<div>\n",
       "<style scoped>\n",
       "    .dataframe tbody tr th:only-of-type {\n",
       "        vertical-align: middle;\n",
       "    }\n",
       "\n",
       "    .dataframe tbody tr th {\n",
       "        vertical-align: top;\n",
       "    }\n",
       "\n",
       "    .dataframe thead th {\n",
       "        text-align: right;\n",
       "    }\n",
       "</style>\n",
       "<table border=\"1\" class=\"dataframe\">\n",
       "  <thead>\n",
       "    <tr style=\"text-align: right;\">\n",
       "      <th></th>\n",
       "      <th>property_type</th>\n",
       "      <th>property_area</th>\n",
       "      <th>number_of_windows</th>\n",
       "      <th>number_of_doors</th>\n",
       "      <th>furnishing</th>\n",
       "      <th>frequency_of_powercuts</th>\n",
       "      <th>power_backup</th>\n",
       "      <th>water_supply</th>\n",
       "      <th>traffic_density_score</th>\n",
       "      <th>crime_rate</th>\n",
       "      <th>dust_and_noise</th>\n",
       "      <th>air_quality_index</th>\n",
       "      <th>neighborhood_review</th>\n",
       "      <th>habitability_score</th>\n",
       "    </tr>\n",
       "  </thead>\n",
       "  <tbody>\n",
       "    <tr>\n",
       "      <th>0</th>\n",
       "      <td>Apartment</td>\n",
       "      <td>106</td>\n",
       "      <td>3.923251</td>\n",
       "      <td>1</td>\n",
       "      <td>Semi_Furnished</td>\n",
       "      <td>0.0</td>\n",
       "      <td>No</td>\n",
       "      <td>Once in a day - Morning</td>\n",
       "      <td>5.89</td>\n",
       "      <td>Slightly below average</td>\n",
       "      <td>Medium</td>\n",
       "      <td>90.0</td>\n",
       "      <td>3.86</td>\n",
       "      <td>71.98</td>\n",
       "    </tr>\n",
       "    <tr>\n",
       "      <th>1</th>\n",
       "      <td>Apartment</td>\n",
       "      <td>733</td>\n",
       "      <td>2.000000</td>\n",
       "      <td>2</td>\n",
       "      <td>Unfurnished</td>\n",
       "      <td>1.0</td>\n",
       "      <td>No</td>\n",
       "      <td>Once in a day - Evening</td>\n",
       "      <td>4.37</td>\n",
       "      <td>Well below average</td>\n",
       "      <td>Medium</td>\n",
       "      <td>96.0</td>\n",
       "      <td>3.55</td>\n",
       "      <td>71.20</td>\n",
       "    </tr>\n",
       "    <tr>\n",
       "      <th>2</th>\n",
       "      <td>Apartment</td>\n",
       "      <td>737</td>\n",
       "      <td>4.000000</td>\n",
       "      <td>2</td>\n",
       "      <td>Fully Furnished</td>\n",
       "      <td>0.0</td>\n",
       "      <td>No</td>\n",
       "      <td>Once in a day - Morning</td>\n",
       "      <td>7.45</td>\n",
       "      <td>Slightly below average</td>\n",
       "      <td>Medium</td>\n",
       "      <td>121.0</td>\n",
       "      <td>3.81</td>\n",
       "      <td>71.39</td>\n",
       "    </tr>\n",
       "    <tr>\n",
       "      <th>3</th>\n",
       "      <td>Apartment</td>\n",
       "      <td>900</td>\n",
       "      <td>3.000000</td>\n",
       "      <td>2</td>\n",
       "      <td>Unfurnished</td>\n",
       "      <td>2.0</td>\n",
       "      <td>Yes</td>\n",
       "      <td>Once in a day - Morning</td>\n",
       "      <td>6.16</td>\n",
       "      <td>Well above average</td>\n",
       "      <td>Medium</td>\n",
       "      <td>100.0</td>\n",
       "      <td>1.34</td>\n",
       "      <td>31.46</td>\n",
       "    </tr>\n",
       "    <tr>\n",
       "      <th>4</th>\n",
       "      <td>Bungalow</td>\n",
       "      <td>2238</td>\n",
       "      <td>14.000000</td>\n",
       "      <td>6</td>\n",
       "      <td>Fully Furnished</td>\n",
       "      <td>0.0</td>\n",
       "      <td>No</td>\n",
       "      <td>All time</td>\n",
       "      <td>5.46</td>\n",
       "      <td>Well below average</td>\n",
       "      <td>Medium</td>\n",
       "      <td>116.0</td>\n",
       "      <td>4.77</td>\n",
       "      <td>93.70</td>\n",
       "    </tr>\n",
       "  </tbody>\n",
       "</table>\n",
       "</div>"
      ],
      "text/plain": [
       "  property_type  property_area  number_of_windows  number_of_doors  \\\n",
       "0     Apartment            106           3.923251                1   \n",
       "1     Apartment            733           2.000000                2   \n",
       "2     Apartment            737           4.000000                2   \n",
       "3     Apartment            900           3.000000                2   \n",
       "4      Bungalow           2238          14.000000                6   \n",
       "\n",
       "        furnishing  frequency_of_powercuts power_backup  \\\n",
       "0   Semi_Furnished                     0.0           No   \n",
       "1      Unfurnished                     1.0           No   \n",
       "2  Fully Furnished                     0.0           No   \n",
       "3      Unfurnished                     2.0          Yes   \n",
       "4  Fully Furnished                     0.0           No   \n",
       "\n",
       "              water_supply  traffic_density_score              crime_rate  \\\n",
       "0  Once in a day - Morning                   5.89  Slightly below average   \n",
       "1  Once in a day - Evening                   4.37      Well below average   \n",
       "2  Once in a day - Morning                   7.45  Slightly below average   \n",
       "3  Once in a day - Morning                   6.16      Well above average   \n",
       "4                 All time                   5.46      Well below average   \n",
       "\n",
       "  dust_and_noise  air_quality_index  neighborhood_review  habitability_score  \n",
       "0         Medium               90.0                 3.86               71.98  \n",
       "1         Medium               96.0                 3.55               71.20  \n",
       "2         Medium              121.0                 3.81               71.39  \n",
       "3         Medium              100.0                 1.34               31.46  \n",
       "4         Medium              116.0                 4.77               93.70  "
      ]
     },
     "execution_count": 34,
     "metadata": {},
     "output_type": "execute_result"
    }
   ],
   "source": [
    "df.head()"
   ]
  },
  {
   "cell_type": "code",
   "execution_count": 35,
   "metadata": {
    "id": "sS6mjrIQUh6u"
   },
   "outputs": [],
   "source": [
    "sc = StandardScaler()"
   ]
  },
  {
   "cell_type": "code",
   "execution_count": 36,
   "metadata": {
    "id": "neMRHfxNUoTp"
   },
   "outputs": [],
   "source": [
    "num.remove('habitability_score')"
   ]
  },
  {
   "cell_type": "code",
   "execution_count": 37,
   "metadata": {
    "id": "jtoIotRkUrBM"
   },
   "outputs": [],
   "source": [
    "df[num] = sc.fit_transform(df[num])"
   ]
  },
  {
   "cell_type": "code",
   "execution_count": 38,
   "metadata": {
    "colab": {
     "base_uri": "https://localhost:8080/",
     "height": 423
    },
    "id": "QZcdgOZXUynN",
    "outputId": "c9e93558-d57f-46ed-9778-d43f17a1f4c1"
   },
   "outputs": [
    {
     "data": {
      "text/html": [
       "<div>\n",
       "<style scoped>\n",
       "    .dataframe tbody tr th:only-of-type {\n",
       "        vertical-align: middle;\n",
       "    }\n",
       "\n",
       "    .dataframe tbody tr th {\n",
       "        vertical-align: top;\n",
       "    }\n",
       "\n",
       "    .dataframe thead th {\n",
       "        text-align: right;\n",
       "    }\n",
       "</style>\n",
       "<table border=\"1\" class=\"dataframe\">\n",
       "  <thead>\n",
       "    <tr style=\"text-align: right;\">\n",
       "      <th></th>\n",
       "      <th>property_area</th>\n",
       "      <th>number_of_windows</th>\n",
       "      <th>number_of_doors</th>\n",
       "      <th>frequency_of_powercuts</th>\n",
       "      <th>traffic_density_score</th>\n",
       "      <th>air_quality_index</th>\n",
       "      <th>neighborhood_review</th>\n",
       "    </tr>\n",
       "  </thead>\n",
       "  <tbody>\n",
       "    <tr>\n",
       "      <th>0</th>\n",
       "      <td>-0.661653</td>\n",
       "      <td>0.000000</td>\n",
       "      <td>-1.129083</td>\n",
       "      <td>-0.656110</td>\n",
       "      <td>-0.381000</td>\n",
       "      <td>-0.501786</td>\n",
       "      <td>0.156998</td>\n",
       "    </tr>\n",
       "    <tr>\n",
       "      <th>1</th>\n",
       "      <td>-0.338480</td>\n",
       "      <td>-0.729667</td>\n",
       "      <td>-0.281597</td>\n",
       "      <td>0.698694</td>\n",
       "      <td>-1.626759</td>\n",
       "      <td>-0.406029</td>\n",
       "      <td>-0.231513</td>\n",
       "    </tr>\n",
       "    <tr>\n",
       "      <th>2</th>\n",
       "      <td>-0.336418</td>\n",
       "      <td>0.029118</td>\n",
       "      <td>-0.281597</td>\n",
       "      <td>-0.656110</td>\n",
       "      <td>0.897542</td>\n",
       "      <td>-0.007041</td>\n",
       "      <td>0.094335</td>\n",
       "    </tr>\n",
       "    <tr>\n",
       "      <th>3</th>\n",
       "      <td>-0.252403</td>\n",
       "      <td>-0.350274</td>\n",
       "      <td>-0.281597</td>\n",
       "      <td>2.053499</td>\n",
       "      <td>-0.159714</td>\n",
       "      <td>-0.342191</td>\n",
       "      <td>-3.001217</td>\n",
       "    </tr>\n",
       "    <tr>\n",
       "      <th>4</th>\n",
       "      <td>0.437240</td>\n",
       "      <td>3.823042</td>\n",
       "      <td>3.108344</td>\n",
       "      <td>-0.656110</td>\n",
       "      <td>-0.733419</td>\n",
       "      <td>-0.086839</td>\n",
       "      <td>1.297464</td>\n",
       "    </tr>\n",
       "    <tr>\n",
       "      <th>...</th>\n",
       "      <td>...</td>\n",
       "      <td>...</td>\n",
       "      <td>...</td>\n",
       "      <td>...</td>\n",
       "      <td>...</td>\n",
       "      <td>...</td>\n",
       "      <td>...</td>\n",
       "    </tr>\n",
       "    <tr>\n",
       "      <th>35544</th>\n",
       "      <td>-0.574031</td>\n",
       "      <td>-1.109059</td>\n",
       "      <td>0.565888</td>\n",
       "      <td>0.000000</td>\n",
       "      <td>-1.544801</td>\n",
       "      <td>-0.645421</td>\n",
       "      <td>0.583106</td>\n",
       "    </tr>\n",
       "    <tr>\n",
       "      <th>35545</th>\n",
       "      <td>-0.486923</td>\n",
       "      <td>-1.109059</td>\n",
       "      <td>0.565888</td>\n",
       "      <td>0.698694</td>\n",
       "      <td>-0.536720</td>\n",
       "      <td>-0.565624</td>\n",
       "      <td>-1.008534</td>\n",
       "    </tr>\n",
       "    <tr>\n",
       "      <th>35546</th>\n",
       "      <td>1.232031</td>\n",
       "      <td>0.787903</td>\n",
       "      <td>3.108344</td>\n",
       "      <td>-0.656110</td>\n",
       "      <td>0.397600</td>\n",
       "      <td>0.248311</td>\n",
       "      <td>0.081802</td>\n",
       "    </tr>\n",
       "    <tr>\n",
       "      <th>35547</th>\n",
       "      <td>-0.063756</td>\n",
       "      <td>-0.350274</td>\n",
       "      <td>-1.129083</td>\n",
       "      <td>-0.656110</td>\n",
       "      <td>-1.438256</td>\n",
       "      <td>-0.533705</td>\n",
       "      <td>-0.607491</td>\n",
       "    </tr>\n",
       "    <tr>\n",
       "      <th>35548</th>\n",
       "      <td>-0.082827</td>\n",
       "      <td>-0.729667</td>\n",
       "      <td>1.413374</td>\n",
       "      <td>-0.656110</td>\n",
       "      <td>1.585988</td>\n",
       "      <td>0.168513</td>\n",
       "      <td>1.172138</td>\n",
       "    </tr>\n",
       "  </tbody>\n",
       "</table>\n",
       "<p>35549 rows × 7 columns</p>\n",
       "</div>"
      ],
      "text/plain": [
       "       property_area  number_of_windows  number_of_doors  \\\n",
       "0          -0.661653           0.000000        -1.129083   \n",
       "1          -0.338480          -0.729667        -0.281597   \n",
       "2          -0.336418           0.029118        -0.281597   \n",
       "3          -0.252403          -0.350274        -0.281597   \n",
       "4           0.437240           3.823042         3.108344   \n",
       "...              ...                ...              ...   \n",
       "35544      -0.574031          -1.109059         0.565888   \n",
       "35545      -0.486923          -1.109059         0.565888   \n",
       "35546       1.232031           0.787903         3.108344   \n",
       "35547      -0.063756          -0.350274        -1.129083   \n",
       "35548      -0.082827          -0.729667         1.413374   \n",
       "\n",
       "       frequency_of_powercuts  traffic_density_score  air_quality_index  \\\n",
       "0                   -0.656110              -0.381000          -0.501786   \n",
       "1                    0.698694              -1.626759          -0.406029   \n",
       "2                   -0.656110               0.897542          -0.007041   \n",
       "3                    2.053499              -0.159714          -0.342191   \n",
       "4                   -0.656110              -0.733419          -0.086839   \n",
       "...                       ...                    ...                ...   \n",
       "35544                0.000000              -1.544801          -0.645421   \n",
       "35545                0.698694              -0.536720          -0.565624   \n",
       "35546               -0.656110               0.397600           0.248311   \n",
       "35547               -0.656110              -1.438256          -0.533705   \n",
       "35548               -0.656110               1.585988           0.168513   \n",
       "\n",
       "       neighborhood_review  \n",
       "0                 0.156998  \n",
       "1                -0.231513  \n",
       "2                 0.094335  \n",
       "3                -3.001217  \n",
       "4                 1.297464  \n",
       "...                    ...  \n",
       "35544             0.583106  \n",
       "35545            -1.008534  \n",
       "35546             0.081802  \n",
       "35547            -0.607491  \n",
       "35548             1.172138  \n",
       "\n",
       "[35549 rows x 7 columns]"
      ]
     },
     "execution_count": 38,
     "metadata": {},
     "output_type": "execute_result"
    }
   ],
   "source": [
    "df[num]"
   ]
  },
  {
   "cell_type": "markdown",
   "metadata": {
    "id": "fBdUyuHtU7vI"
   },
   "source": [
    "**Applying One hot encoding on Categorical Columns**"
   ]
  },
  {
   "cell_type": "code",
   "execution_count": 39,
   "metadata": {
    "colab": {
     "base_uri": "https://localhost:8080/",
     "height": 663
    },
    "id": "YPkjTHcrU1D4",
    "outputId": "9f0f3f2a-df62-41a4-f1e7-0b0011f0009f"
   },
   "outputs": [],
   "source": [
    "# cat2 = []\n",
    "# cat1 = []\n",
    "\n",
    "# for i in df.columns:\n",
    "#     if df[i].dtypes == 'O':\n",
    "#         cat1.append(i)\n",
    "#         cat2.append(df[i].nunique())\n",
    "\n",
    "# plt.figure(figsize = (10,7))\n",
    "# sns.barplot(x = cat1, y = cat2)\n",
    "# plt.title('Count of Unique values in categorical columns', color = 'red', fontsize=18)\n",
    "# plt.xlabel('Unique Category count', color = 'blue')\n",
    "# plt.ylabel('Unique Category', color = 'Blue')\n"
   ]
  },
  {
   "cell_type": "code",
   "execution_count": 40,
   "metadata": {
    "id": "Q65NM7cRVFBp"
   },
   "outputs": [],
   "source": [
    "# df_new = pd.get_dummies(df, drop_first= True)"
   ]
  },
  {
   "cell_type": "code",
   "execution_count": 41,
   "metadata": {
    "colab": {
     "base_uri": "https://localhost:8080/",
     "height": 478
    },
    "id": "U8-YbPIzVyZE",
    "outputId": "81090544-bfa5-41d5-c32e-088b2822bb0d",
    "scrolled": true
   },
   "outputs": [],
   "source": [
    "# pd.set_option('display.max_columns', None)\n",
    "# df_new"
   ]
  },
  {
   "cell_type": "code",
   "execution_count": 42,
   "metadata": {},
   "outputs": [
    {
     "data": {
      "text/html": [
       "<div>\n",
       "<style scoped>\n",
       "    .dataframe tbody tr th:only-of-type {\n",
       "        vertical-align: middle;\n",
       "    }\n",
       "\n",
       "    .dataframe tbody tr th {\n",
       "        vertical-align: top;\n",
       "    }\n",
       "\n",
       "    .dataframe thead th {\n",
       "        text-align: right;\n",
       "    }\n",
       "</style>\n",
       "<table border=\"1\" class=\"dataframe\">\n",
       "  <thead>\n",
       "    <tr style=\"text-align: right;\">\n",
       "      <th></th>\n",
       "      <th>property_type</th>\n",
       "      <th>property_area</th>\n",
       "      <th>number_of_windows</th>\n",
       "      <th>number_of_doors</th>\n",
       "      <th>furnishing</th>\n",
       "      <th>frequency_of_powercuts</th>\n",
       "      <th>power_backup</th>\n",
       "      <th>water_supply</th>\n",
       "      <th>traffic_density_score</th>\n",
       "      <th>crime_rate</th>\n",
       "      <th>dust_and_noise</th>\n",
       "      <th>air_quality_index</th>\n",
       "      <th>neighborhood_review</th>\n",
       "      <th>habitability_score</th>\n",
       "    </tr>\n",
       "  </thead>\n",
       "  <tbody>\n",
       "    <tr>\n",
       "      <th>0</th>\n",
       "      <td>Apartment</td>\n",
       "      <td>-0.661653</td>\n",
       "      <td>0.000000</td>\n",
       "      <td>-1.129083</td>\n",
       "      <td>Semi_Furnished</td>\n",
       "      <td>-0.656110</td>\n",
       "      <td>No</td>\n",
       "      <td>Once in a day - Morning</td>\n",
       "      <td>-0.381000</td>\n",
       "      <td>Slightly below average</td>\n",
       "      <td>Medium</td>\n",
       "      <td>-0.501786</td>\n",
       "      <td>0.156998</td>\n",
       "      <td>71.98</td>\n",
       "    </tr>\n",
       "    <tr>\n",
       "      <th>1</th>\n",
       "      <td>Apartment</td>\n",
       "      <td>-0.338480</td>\n",
       "      <td>-0.729667</td>\n",
       "      <td>-0.281597</td>\n",
       "      <td>Unfurnished</td>\n",
       "      <td>0.698694</td>\n",
       "      <td>No</td>\n",
       "      <td>Once in a day - Evening</td>\n",
       "      <td>-1.626759</td>\n",
       "      <td>Well below average</td>\n",
       "      <td>Medium</td>\n",
       "      <td>-0.406029</td>\n",
       "      <td>-0.231513</td>\n",
       "      <td>71.20</td>\n",
       "    </tr>\n",
       "    <tr>\n",
       "      <th>2</th>\n",
       "      <td>Apartment</td>\n",
       "      <td>-0.336418</td>\n",
       "      <td>0.029118</td>\n",
       "      <td>-0.281597</td>\n",
       "      <td>Fully Furnished</td>\n",
       "      <td>-0.656110</td>\n",
       "      <td>No</td>\n",
       "      <td>Once in a day - Morning</td>\n",
       "      <td>0.897542</td>\n",
       "      <td>Slightly below average</td>\n",
       "      <td>Medium</td>\n",
       "      <td>-0.007041</td>\n",
       "      <td>0.094335</td>\n",
       "      <td>71.39</td>\n",
       "    </tr>\n",
       "    <tr>\n",
       "      <th>3</th>\n",
       "      <td>Apartment</td>\n",
       "      <td>-0.252403</td>\n",
       "      <td>-0.350274</td>\n",
       "      <td>-0.281597</td>\n",
       "      <td>Unfurnished</td>\n",
       "      <td>2.053499</td>\n",
       "      <td>Yes</td>\n",
       "      <td>Once in a day - Morning</td>\n",
       "      <td>-0.159714</td>\n",
       "      <td>Well above average</td>\n",
       "      <td>Medium</td>\n",
       "      <td>-0.342191</td>\n",
       "      <td>-3.001217</td>\n",
       "      <td>31.46</td>\n",
       "    </tr>\n",
       "    <tr>\n",
       "      <th>4</th>\n",
       "      <td>Bungalow</td>\n",
       "      <td>0.437240</td>\n",
       "      <td>3.823042</td>\n",
       "      <td>3.108344</td>\n",
       "      <td>Fully Furnished</td>\n",
       "      <td>-0.656110</td>\n",
       "      <td>No</td>\n",
       "      <td>All time</td>\n",
       "      <td>-0.733419</td>\n",
       "      <td>Well below average</td>\n",
       "      <td>Medium</td>\n",
       "      <td>-0.086839</td>\n",
       "      <td>1.297464</td>\n",
       "      <td>93.70</td>\n",
       "    </tr>\n",
       "    <tr>\n",
       "      <th>...</th>\n",
       "      <td>...</td>\n",
       "      <td>...</td>\n",
       "      <td>...</td>\n",
       "      <td>...</td>\n",
       "      <td>...</td>\n",
       "      <td>...</td>\n",
       "      <td>...</td>\n",
       "      <td>...</td>\n",
       "      <td>...</td>\n",
       "      <td>...</td>\n",
       "      <td>...</td>\n",
       "      <td>...</td>\n",
       "      <td>...</td>\n",
       "      <td>...</td>\n",
       "    </tr>\n",
       "    <tr>\n",
       "      <th>35544</th>\n",
       "      <td>Apartment</td>\n",
       "      <td>-0.574031</td>\n",
       "      <td>-1.109059</td>\n",
       "      <td>0.565888</td>\n",
       "      <td>Semi_Furnished</td>\n",
       "      <td>0.000000</td>\n",
       "      <td>No</td>\n",
       "      <td>NOT MENTIONED</td>\n",
       "      <td>-1.544801</td>\n",
       "      <td>Well below average</td>\n",
       "      <td>Medium</td>\n",
       "      <td>-0.645421</td>\n",
       "      <td>0.583106</td>\n",
       "      <td>73.61</td>\n",
       "    </tr>\n",
       "    <tr>\n",
       "      <th>35545</th>\n",
       "      <td>Apartment</td>\n",
       "      <td>-0.486923</td>\n",
       "      <td>-1.109059</td>\n",
       "      <td>0.565888</td>\n",
       "      <td>Fully Furnished</td>\n",
       "      <td>0.698694</td>\n",
       "      <td>No</td>\n",
       "      <td>All time</td>\n",
       "      <td>-0.536720</td>\n",
       "      <td>Slightly above average</td>\n",
       "      <td>Medium</td>\n",
       "      <td>-0.565624</td>\n",
       "      <td>-1.008534</td>\n",
       "      <td>79.91</td>\n",
       "    </tr>\n",
       "    <tr>\n",
       "      <th>35546</th>\n",
       "      <td>Bungalow</td>\n",
       "      <td>1.232031</td>\n",
       "      <td>0.787903</td>\n",
       "      <td>3.108344</td>\n",
       "      <td>Unfurnished</td>\n",
       "      <td>-0.656110</td>\n",
       "      <td>Yes</td>\n",
       "      <td>Once in two days</td>\n",
       "      <td>0.397600</td>\n",
       "      <td>Well below average</td>\n",
       "      <td>Medium</td>\n",
       "      <td>0.248311</td>\n",
       "      <td>0.081802</td>\n",
       "      <td>81.44</td>\n",
       "    </tr>\n",
       "    <tr>\n",
       "      <th>35547</th>\n",
       "      <td>Single-family home</td>\n",
       "      <td>-0.063756</td>\n",
       "      <td>-0.350274</td>\n",
       "      <td>-1.129083</td>\n",
       "      <td>Semi_Furnished</td>\n",
       "      <td>-0.656110</td>\n",
       "      <td>No</td>\n",
       "      <td>Once in a day - Morning</td>\n",
       "      <td>-1.438256</td>\n",
       "      <td>Slightly above average</td>\n",
       "      <td>Medium</td>\n",
       "      <td>-0.533705</td>\n",
       "      <td>-0.607491</td>\n",
       "      <td>71.33</td>\n",
       "    </tr>\n",
       "    <tr>\n",
       "      <th>35548</th>\n",
       "      <td>Single-family home</td>\n",
       "      <td>-0.082827</td>\n",
       "      <td>-0.729667</td>\n",
       "      <td>1.413374</td>\n",
       "      <td>Fully Furnished</td>\n",
       "      <td>-0.656110</td>\n",
       "      <td>No</td>\n",
       "      <td>All time</td>\n",
       "      <td>1.585988</td>\n",
       "      <td>Well below average</td>\n",
       "      <td>High</td>\n",
       "      <td>0.168513</td>\n",
       "      <td>1.172138</td>\n",
       "      <td>83.25</td>\n",
       "    </tr>\n",
       "  </tbody>\n",
       "</table>\n",
       "<p>35549 rows × 14 columns</p>\n",
       "</div>"
      ],
      "text/plain": [
       "            property_type  property_area  number_of_windows  number_of_doors  \\\n",
       "0               Apartment      -0.661653           0.000000        -1.129083   \n",
       "1               Apartment      -0.338480          -0.729667        -0.281597   \n",
       "2               Apartment      -0.336418           0.029118        -0.281597   \n",
       "3               Apartment      -0.252403          -0.350274        -0.281597   \n",
       "4                Bungalow       0.437240           3.823042         3.108344   \n",
       "...                   ...            ...                ...              ...   \n",
       "35544           Apartment      -0.574031          -1.109059         0.565888   \n",
       "35545           Apartment      -0.486923          -1.109059         0.565888   \n",
       "35546            Bungalow       1.232031           0.787903         3.108344   \n",
       "35547  Single-family home      -0.063756          -0.350274        -1.129083   \n",
       "35548  Single-family home      -0.082827          -0.729667         1.413374   \n",
       "\n",
       "            furnishing  frequency_of_powercuts power_backup  \\\n",
       "0       Semi_Furnished               -0.656110           No   \n",
       "1          Unfurnished                0.698694           No   \n",
       "2      Fully Furnished               -0.656110           No   \n",
       "3          Unfurnished                2.053499          Yes   \n",
       "4      Fully Furnished               -0.656110           No   \n",
       "...                ...                     ...          ...   \n",
       "35544   Semi_Furnished                0.000000           No   \n",
       "35545  Fully Furnished                0.698694           No   \n",
       "35546      Unfurnished               -0.656110          Yes   \n",
       "35547   Semi_Furnished               -0.656110           No   \n",
       "35548  Fully Furnished               -0.656110           No   \n",
       "\n",
       "                  water_supply  traffic_density_score              crime_rate  \\\n",
       "0      Once in a day - Morning              -0.381000  Slightly below average   \n",
       "1      Once in a day - Evening              -1.626759      Well below average   \n",
       "2      Once in a day - Morning               0.897542  Slightly below average   \n",
       "3      Once in a day - Morning              -0.159714      Well above average   \n",
       "4                     All time              -0.733419      Well below average   \n",
       "...                        ...                    ...                     ...   \n",
       "35544            NOT MENTIONED              -1.544801      Well below average   \n",
       "35545                 All time              -0.536720  Slightly above average   \n",
       "35546         Once in two days               0.397600      Well below average   \n",
       "35547  Once in a day - Morning              -1.438256  Slightly above average   \n",
       "35548                 All time               1.585988      Well below average   \n",
       "\n",
       "      dust_and_noise  air_quality_index  neighborhood_review  \\\n",
       "0             Medium          -0.501786             0.156998   \n",
       "1             Medium          -0.406029            -0.231513   \n",
       "2             Medium          -0.007041             0.094335   \n",
       "3             Medium          -0.342191            -3.001217   \n",
       "4             Medium          -0.086839             1.297464   \n",
       "...              ...                ...                  ...   \n",
       "35544         Medium          -0.645421             0.583106   \n",
       "35545         Medium          -0.565624            -1.008534   \n",
       "35546         Medium           0.248311             0.081802   \n",
       "35547         Medium          -0.533705            -0.607491   \n",
       "35548           High           0.168513             1.172138   \n",
       "\n",
       "       habitability_score  \n",
       "0                   71.98  \n",
       "1                   71.20  \n",
       "2                   71.39  \n",
       "3                   31.46  \n",
       "4                   93.70  \n",
       "...                   ...  \n",
       "35544               73.61  \n",
       "35545               79.91  \n",
       "35546               81.44  \n",
       "35547               71.33  \n",
       "35548               83.25  \n",
       "\n",
       "[35549 rows x 14 columns]"
      ]
     },
     "execution_count": 42,
     "metadata": {},
     "output_type": "execute_result"
    }
   ],
   "source": [
    "df"
   ]
  },
  {
   "cell_type": "code",
   "execution_count": 43,
   "metadata": {},
   "outputs": [],
   "source": [
    "from sklearn.preprocessing import LabelEncoder\n",
    "# Label encoding for categorical variables\n",
    "label_encoder = LabelEncoder()\n",
    "for col in df.columns:\n",
    "    if df[col].dtype == 'O':\n",
    "        df[col] = label_encoder.fit_transform(df[col])"
   ]
  },
  {
   "cell_type": "markdown",
   "metadata": {
    "id": "SLAhdMXoWCAD"
   },
   "source": [
    "**Data Prepration**"
   ]
  },
  {
   "cell_type": "code",
   "execution_count": 44,
   "metadata": {},
   "outputs": [],
   "source": [
    "x = df.drop('habitability_score', axis = 1)\n",
    "y = df['habitability_score']"
   ]
  },
  {
   "cell_type": "code",
   "execution_count": 45,
   "metadata": {
    "id": "gEQ_Vhi8WGOS"
   },
   "outputs": [],
   "source": [
    "x_train, x_test, y_train, y_test = train_test_split(x,y, test_size= 0.3, random_state= 10)"
   ]
  },
  {
   "cell_type": "code",
   "execution_count": 46,
   "metadata": {
    "colab": {
     "base_uri": "https://localhost:8080/"
    },
    "id": "XSrOtLr1WQKU",
    "outputId": "013f8d28-0c9d-4944-a2b4-bc413484b3bd"
   },
   "outputs": [
    {
     "name": "stdout",
     "output_type": "stream",
     "text": [
      "(24884, 13)\n",
      "(10665, 13)\n"
     ]
    }
   ],
   "source": [
    "print(x_train.shape)\n",
    "print(x_test.shape)"
   ]
  },
  {
   "cell_type": "markdown",
   "metadata": {
    "id": "lGBS6Z_WaN3p"
   },
   "source": [
    "**Model Selection and Prediction**"
   ]
  },
  {
   "cell_type": "code",
   "execution_count": 47,
   "metadata": {
    "id": "rbTGcA_oZ1Sa"
   },
   "outputs": [],
   "source": [
    "# for model building\n",
    "from sklearn.linear_model import LinearRegression\n",
    "from sklearn.ensemble import RandomForestRegressor\n",
    "from sklearn.ensemble import GradientBoostingRegressor\n",
    "from sklearn.neighbors import KNeighborsRegressor\n",
    "from sklearn.svm import SVR\n",
    "from xgboost import XGBRegressor\n",
    "\n",
    "# for model evaluation\n",
    "from sklearn.metrics import r2_score\n",
    "from sklearn.metrics import mean_squared_error"
   ]
  },
  {
   "cell_type": "code",
   "execution_count": 48,
   "metadata": {
    "id": "HO1fOXP4aWO_"
   },
   "outputs": [],
   "source": [
    "X = x_train\n",
    "y = y_train\n",
    "X_test = x_test\n",
    "y_test = y_test"
   ]
  },
  {
   "cell_type": "code",
   "execution_count": 49,
   "metadata": {
    "id": "Zb3uCjqza3SS"
   },
   "outputs": [],
   "source": [
    "def score(y_true, y_pred):\n",
    "    return max(0, 100*(r2_score(y_true, y_pred)))\n",
    "\n",
    "def fit_and_evaluate(model):\n",
    "    # Train a model\n",
    "    model.fit(X, y)\n",
    "\n",
    "    # Make predictions and evaluate\n",
    "    predictions = model.predict(X)\n",
    "    model_score = score(y, predictions)\n",
    "\n",
    "    # Returns the evaluation metrics\n",
    "    return model_score"
   ]
  },
  {
   "cell_type": "code",
   "execution_count": 50,
   "metadata": {
    "colab": {
     "base_uri": "https://localhost:8080/"
    },
    "id": "pLCG12V_a6qu",
    "outputId": "b3aa1329-90e2-41c6-960b-f8c609259063"
   },
   "outputs": [
    {
     "name": "stdout",
     "output_type": "stream",
     "text": [
      "Baseline model R2 Score:: 56.51\n"
     ]
    }
   ],
   "source": [
    "baseline_model = LinearRegression()\n",
    "baseline_score = fit_and_evaluate(baseline_model)\n",
    "print(f\"Baseline model R2 Score:: {baseline_score:.2f}\")"
   ]
  },
  {
   "cell_type": "markdown",
   "metadata": {
    "id": "zwmhHJ-2a_M5"
   },
   "source": [
    " **Select & Train a model\n",
    "Train and evaluate multiple models on training data.**\n",
    "\n",
    "- Random Forest Regression\n",
    "- Gradient Boosting Regression\n",
    "- Support Vector Machine Regression\n",
    "- K-nearest neighbors Regression\n",
    "- XGBRegressor\n",
    "\n"
   ]
  },
  {
   "cell_type": "code",
   "execution_count": 51,
   "metadata": {
    "colab": {
     "base_uri": "https://localhost:8080/"
    },
    "id": "U_or0uKsa8Zb",
    "outputId": "8921767a-030c-4b3f-d2de-1a4964f03df5"
   },
   "outputs": [
    {
     "name": "stdout",
     "output_type": "stream",
     "text": [
      "rf score: 97.42236252619252\n",
      "gb score: 75.50126913540281\n",
      "svr score: 65.22209938992371\n",
      "knn score: 77.09633231687336\n",
      "xgb score: 88.0945704740166\n"
     ]
    }
   ],
   "source": [
    "models = {\n",
    "    'rf': RandomForestRegressor(random_state=42),\n",
    "    'gb': GradientBoostingRegressor(random_state=42),\n",
    "    'svr': SVR(),\n",
    "    'knn': KNeighborsRegressor(),\n",
    "    'xgb': XGBRegressor(random_state=42)\n",
    "}\n",
    "model_scores = []\n",
    "\n",
    "for name, model in models.items():\n",
    "    model_score = fit_and_evaluate(model)\n",
    "    model_scores.append((name, model_score))\n",
    "    print(f\"{name} score: {model_score}\")"
   ]
  },
  {
   "cell_type": "code",
   "execution_count": 52,
   "metadata": {
    "colab": {
     "base_uri": "https://localhost:8080/",
     "height": 407
    },
    "id": "L6Q8nTxQbOq5",
    "outputId": "14b6e25b-2c70-4bb0-efdb-bda2fd54ed75"
   },
   "outputs": [
    {
     "data": {
      "image/png": "[encoded data removed]",
      "text/plain": [
       "<Figure size 700x400 with 1 Axes>"
      ]
     },
     "metadata": {},
     "output_type": "display_data"
    }
   ],
   "source": [
    "models = ['RandomForest', 'GradientBoosting', 'SVR', 'KNN', 'XGB']\n",
    "model_performance_df = pd.DataFrame(data=model_scores, columns=['models', 'score'], index=models)\n",
    "\n",
    "# plot\n",
    "plt.figure(figsize=(7, 4))\n",
    "model_performance_df['score'].plot(kind='barh', width=0.7)\n",
    "\n",
    "plt.title(\"R2 score on training data\", size=10)\n",
    "plt.xlabel(\"Score\", size=10)\n",
    "plt.ylabel(\"Regressor\", size=10)\n",
    "\n",
    "plt.grid(ls=\"--\", c='b', alpha=0.2)\n",
    "plt.show()"
   ]
  },
  {
   "cell_type": "code",
   "execution_count": 53,
   "metadata": {
    "colab": {
     "base_uri": "https://localhost:8080/"
    },
    "id": "GSR-_6bub8IE",
    "outputId": "203d1675-907b-4d5b-8969-a8f4eec698e5"
   },
   "outputs": [
    {
     "name": "stdout",
     "output_type": "stream",
     "text": [
      "lr r2-score:: 56.36 +-1.64\n",
      "rf r2-score:: 81.32 +-1.24\n",
      "gb r2-score:: 74.61 +-1.56\n",
      "svr r2-score:: 64.00 +-1.57\n",
      "knn r2-score:: 64.47 +-1.73\n",
      "xgb r2-score:: 79.63 +-1.27\n"
     ]
    }
   ],
   "source": [
    "# Cross Validation\n",
    "from sklearn.model_selection import cross_val_score\n",
    "\n",
    "def cv_score(scores):\n",
    "    mean = max(0, 100*(scores.mean()))\n",
    "    std = max(0, 100*(scores.std()))\n",
    "    return mean, std\n",
    "\n",
    "\n",
    "models = {\n",
    "    'lr': LinearRegression(),\n",
    "    'rf': RandomForestRegressor(random_state=42),\n",
    "    'gb': GradientBoostingRegressor(random_state=42),\n",
    "    'svr': SVR(),\n",
    "    'knn': KNeighborsRegressor(),\n",
    "    'xgb': XGBRegressor(random_state=42)\n",
    "}\n",
    "\n",
    "model_scores = []\n",
    "for name, model in models.items():\n",
    "    scores = cross_val_score(model,\n",
    "                             X,\n",
    "                             y,\n",
    "                             scoring='r2',\n",
    "                             cv=10)\n",
    "    mean, std = cv_score(scores)\n",
    "    model_scores.append((name, round(mean, 2), round(std, 2)))\n",
    "    print(f\"{name} r2-score:: {mean:.2f} +-{std:.2f}\")"
   ]
  },
  {
   "cell_type": "code",
   "execution_count": 54,
   "metadata": {
    "id": "25EYbXbYcAcu"
   },
   "outputs": [],
   "source": [
    "model = XGBRegressor(random_state=42)\n",
    "model.fit(X, y)\n",
    "preds = model.predict(X_test)"
   ]
  },
  {
   "cell_type": "code",
   "execution_count": 55,
   "metadata": {
    "colab": {
     "base_uri": "https://localhost:8080/",
     "height": 423
    },
    "id": "Gy_WOLlRhlNe",
    "outputId": "9cd6829e-83fc-4b6f-9c6a-849d2427c122"
   },
   "outputs": [
    {
     "data": {
      "text/html": [
       "<div>\n",
       "<style scoped>\n",
       "    .dataframe tbody tr th:only-of-type {\n",
       "        vertical-align: middle;\n",
       "    }\n",
       "\n",
       "    .dataframe tbody tr th {\n",
       "        vertical-align: top;\n",
       "    }\n",
       "\n",
       "    .dataframe thead th {\n",
       "        text-align: right;\n",
       "    }\n",
       "</style>\n",
       "<table border=\"1\" class=\"dataframe\">\n",
       "  <thead>\n",
       "    <tr style=\"text-align: right;\">\n",
       "      <th></th>\n",
       "      <th>Actual</th>\n",
       "      <th>Predicted</th>\n",
       "    </tr>\n",
       "  </thead>\n",
       "  <tbody>\n",
       "    <tr>\n",
       "      <th>33844</th>\n",
       "      <td>72.26</td>\n",
       "      <td>77.239647</td>\n",
       "    </tr>\n",
       "    <tr>\n",
       "      <th>25877</th>\n",
       "      <td>91.74</td>\n",
       "      <td>82.497467</td>\n",
       "    </tr>\n",
       "    <tr>\n",
       "      <th>23720</th>\n",
       "      <td>45.31</td>\n",
       "      <td>56.447208</td>\n",
       "    </tr>\n",
       "    <tr>\n",
       "      <th>12769</th>\n",
       "      <td>70.86</td>\n",
       "      <td>74.382332</td>\n",
       "    </tr>\n",
       "    <tr>\n",
       "      <th>29681</th>\n",
       "      <td>71.06</td>\n",
       "      <td>72.412781</td>\n",
       "    </tr>\n",
       "    <tr>\n",
       "      <th>...</th>\n",
       "      <td>...</td>\n",
       "      <td>...</td>\n",
       "    </tr>\n",
       "    <tr>\n",
       "      <th>21994</th>\n",
       "      <td>81.94</td>\n",
       "      <td>80.612282</td>\n",
       "    </tr>\n",
       "    <tr>\n",
       "      <th>7398</th>\n",
       "      <td>82.33</td>\n",
       "      <td>71.846230</td>\n",
       "    </tr>\n",
       "    <tr>\n",
       "      <th>30009</th>\n",
       "      <td>76.12</td>\n",
       "      <td>76.471634</td>\n",
       "    </tr>\n",
       "    <tr>\n",
       "      <th>14173</th>\n",
       "      <td>82.22</td>\n",
       "      <td>83.909889</td>\n",
       "    </tr>\n",
       "    <tr>\n",
       "      <th>17559</th>\n",
       "      <td>68.68</td>\n",
       "      <td>75.513069</td>\n",
       "    </tr>\n",
       "  </tbody>\n",
       "</table>\n",
       "<p>10665 rows × 2 columns</p>\n",
       "</div>"
      ],
      "text/plain": [
       "       Actual  Predicted\n",
       "33844   72.26  77.239647\n",
       "25877   91.74  82.497467\n",
       "23720   45.31  56.447208\n",
       "12769   70.86  74.382332\n",
       "29681   71.06  72.412781\n",
       "...       ...        ...\n",
       "21994   81.94  80.612282\n",
       "7398    82.33  71.846230\n",
       "30009   76.12  76.471634\n",
       "14173   82.22  83.909889\n",
       "17559   68.68  75.513069\n",
       "\n",
       "[10665 rows x 2 columns]"
      ]
     },
     "execution_count": 55,
     "metadata": {},
     "output_type": "execute_result"
    }
   ],
   "source": [
    "df_ = pd.DataFrame({'Actual': y_test, 'Predicted': preds})\n",
    "df_"
   ]
  },
  {
   "cell_type": "code",
   "execution_count": 56,
   "metadata": {
    "colab": {
     "base_uri": "https://localhost:8080/"
    },
    "id": "9t3bc3cHh6Dd",
    "outputId": "461ac21c-70a9-43e4-c4e9-79d62556ca5f"
   },
   "outputs": [
    {
     "name": "stdout",
     "output_type": "stream",
     "text": [
      "r2 Score: 0.8105062150181013\n",
      "mean_squared_error: 38.150725701558244\n",
      "mean_absolute_error: 4.80836047867973\n",
      "root_mean_absolute_error: 6.17662737273006\n"
     ]
    }
   ],
   "source": [
    "print('r2 Score:',metrics.r2_score(y_test,preds))\n",
    "print('mean_squared_error:',metrics.mean_squared_error(y_test,preds))\n",
    "print('mean_absolute_error:',metrics.mean_absolute_error(y_test,preds))\n",
    "print('root_mean_absolute_error:',np.sqrt(metrics.mean_squared_error(y_test,preds)))"
   ]
  },
  {
   "cell_type": "code",
   "execution_count": 57,
   "metadata": {
    "id": "w_eSNMa7vjCC"
   },
   "outputs": [],
   "source": [
    "import pickle\n",
    "# Save the model to a file using pickle\n",
    "with open('model_pickle1.pkl', 'wb') as file:\n",
    "    pickle.dump(model, file)"
   ]
  },
  {
   "cell_type": "code",
   "execution_count": null,
   "metadata": {},
   "outputs": [],
   "source": []
  }
 ],
 "metadata": {
  "accelerator": "GPU",
  "colab": {
   "gpuType": "T4",
   "provenance": []
  },
  "kernelspec": {
   "display_name": "Python 3 (ipykernel)",
   "language": "python",
   "name": "python3"
  },
  "language_info": {
   "codemirror_mode": {
    "name": "ipython",
    "version": 3
   },
   "file_extension": ".py",
   "mimetype": "text/x-python",
   "name": "python",
   "nbconvert_exporter": "python",
   "pygments_lexer": "ipython3",
   "version": "3.10.9"
  }
 },
 "nbformat": 4,
 "nbformat_minor": 1
}
